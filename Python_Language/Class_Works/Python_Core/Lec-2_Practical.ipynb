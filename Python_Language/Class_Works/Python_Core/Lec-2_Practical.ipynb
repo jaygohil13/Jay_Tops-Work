{
  "cells": [
    {
      "cell_type": "code",
      "execution_count": 2,
      "metadata": {
        "trusted": true
      },
      "outputs": [
        {
          "name": "stdout",
          "output_type": "stream",
          "text": [
            "hello\n"
          ]
        }
      ],
      "source": [
        "\"\"\"\n",
        "\n",
        "print is an inbuilt function in python\n",
        "using of print we can display appropriate messege on console screen.\n",
        "\n",
        "syntax:\n",
        "\n",
        "print(message)\n",
        "\n",
        "\"\"\"\n",
        "\n",
        "print(\"hello\")\n",
        "\n",
        "\n",
        " "
      ]
    },
    {
      "cell_type": "code",
      "execution_count": null,
      "metadata": {},
      "outputs": [],
      "source": [
        "\"\"\"\n",
        "\n",
        "Variable : A name which can store a value in python there is no need to declare any variable here....\n",
        "\n",
        "syntax:\n",
        "\n",
        "Var = value\n",
        "\n",
        "\"\"\"\n"
      ]
    },
    {
      "cell_type": "code",
      "execution_count": 2,
      "metadata": {
        "trusted": true
      },
      "outputs": [
        {
          "name": "stdout",
          "output_type": "stream",
          "text": [
            "Python\n"
          ]
        }
      ],
      "source": [
        "name = \"Python\"\n",
        "print(name)"
      ]
    },
    {
      "cell_type": "code",
      "execution_count": 3,
      "metadata": {
        "trusted": true
      },
      "outputs": [
        {
          "name": "stdout",
          "output_type": "stream",
          "text": [
            "30\n"
          ]
        }
      ],
      "source": [
        "num1 = 10\n",
        "num2 = 20\n",
        "\n",
        "print(num1 + num2)\n"
      ]
    },
    {
      "cell_type": "code",
      "execution_count": 4,
      "metadata": {
        "trusted": true
      },
      "outputs": [
        {
          "name": "stdout",
          "output_type": "stream",
          "text": [
            "<Future pending>\n"
          ]
        },
        {
          "name": "stdout",
          "output_type": "stream",
          "text": [
            "Enter your name : Jay\n"
          ]
        }
      ],
      "source": [
        "\"\"\"\n",
        "\n",
        "dynamic data - accept values from user\n",
        "\n",
        "input() : using of input function we can accept value from user\n",
        "by default it accept value in string format\n",
        "\n",
        "syntax :\n",
        "\n",
        "input(\"appropriate message\")\n",
        "\n",
        "\n",
        "\"\"\"\n",
        "\n",
        "name = input(\"Enter your name :\")\n",
        "print(name)\n",
        "\n",
        "\n"
      ]
    },
    {
      "cell_type": "code",
      "execution_count": 13,
      "metadata": {
        "trusted": true
      },
      "outputs": [
        {
          "name": "stdout",
          "output_type": "stream",
          "text": [
            "2.0\n"
          ]
        }
      ],
      "source": [
        "month = 24\n",
        "\n",
        "year = 24/12\n",
        "print(year)"
      ]
    },
    {
      "cell_type": "code",
      "execution_count": 1,
      "metadata": {
        "trusted": true
      },
      "outputs": [
        {
          "name": "stdout",
          "output_type": "stream",
          "text": [
            "100.0\n"
          ]
        }
      ],
      "source": [
        "principle = 1000\n",
        "rate = 5\n",
        "time = 2\n",
        "\n",
        "si = principle*rate*time/100\n",
        "\n",
        "print(si)\n",
        "\n"
      ]
    },
    {
      "cell_type": "code",
      "execution_count": 12,
      "metadata": {
        "trusted": true
      },
      "outputs": [
        {
          "name": "stdout",
          "output_type": "stream",
          "text": [
            "4.0\n",
            "1440\n"
          ]
        }
      ],
      "source": [
        "month = 48\n",
        "year = 48/12\n",
        "days = 48*30\n",
        "\n",
        "print(year)\n",
        "print(days)"
      ]
    },
    {
      "cell_type": "code",
      "execution_count": 10,
      "metadata": {
        "trusted": true
      },
      "outputs": [
        {
          "name": "stdout",
          "output_type": "stream",
          "text": [
            "20\n",
            "480\n",
            "28800\n",
            "1728000\n"
          ]
        }
      ],
      "source": [
        "days = 20\n",
        "hours = days*24\n",
        "minutes = hours*60\n",
        "seconds = minutes*60\n",
        "\n",
        "print(days)\n",
        "print(hours)\n",
        "print(minutes)\n",
        "print(seconds)\n",
        "\n"
      ]
    }
  ],
  "metadata": {
    "kernelspec": {
      "display_name": "Python 3.11.0 64-bit",
      "language": "python",
      "name": "python3"
    },
    "language_info": {
      "codemirror_mode": {
        "name": "ipython",
        "version": 3
      },
      "file_extension": ".py",
      "mimetype": "text/x-python",
      "name": "python",
      "nbconvert_exporter": "python",
      "pygments_lexer": "ipython3",
      "version": "3.11.0"
    },
    "vscode": {
      "interpreter": {
        "hash": "c261aea317cc0286b3b3261fbba9abdec21eaa57589985bb7a274bf54d6cc0a7"
      }
    }
  },
  "nbformat": 4,
  "nbformat_minor": 4
}
